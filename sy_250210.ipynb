{
 "cells": [
  {
   "cell_type": "code",
   "execution_count": 6,
   "metadata": {},
   "outputs": [],
   "source": [
    "import torch\n",
    "import torch.nn.functional as F\n",
    "from torch_geometric.nn import GCNConv\n",
    "from torch_geometric.datasets import Planetoid, Amazon, Coauthor, CitationFull\n",
    "from torch_geometric.loader import DataLoader\n",
    "import numpy as np"
   ]
  },
  {
   "cell_type": "code",
   "execution_count": null,
   "metadata": {},
   "outputs": [],
   "source": [
    "# GCN 기반 GNN 모델 정의\n",
    "class GCN(torch.nn.Moudle):\n",
    "    def __init__(self, in_channels, hidden_channels, out_channels):\n",
    "        super(GCN, self).__init__()\n",
    "        self.conv1 = GCNConv(in_channels, hidden_channels)\n",
    "        self.conv2 = GCNConv(hidden_channels, out_channels)\n",
    "        \n",
    "    def forward(self, x, edge_index):\n",
    "        x = F.relu(self.conv1(x, edge_index))\n",
    "        x = self.conv2(x, edge_index)\n",
    "        return x\n",
    "\n",
    "# 분위수 손실 함수 정의\n",
    "class QuantileLoss(torch.nn.Module):\n",
    "    def __init__(self):\n",
    "        super(QuantileLoss, self).__init__()\n",
    "        \n",
    "    def forward(self, yhat, y, tau):\n",
    "        diff = yhat - y\n",
    "        mask = (diff.ge(0))"
   ]
  },
  {
   "cell_type": "code",
   "execution_count": null,
   "metadata": {},
   "outputs": [],
   "source": []
  },
  {
   "cell_type": "code",
   "execution_count": null,
   "metadata": {},
   "outputs": [],
   "source": []
  },
  {
   "cell_type": "code",
   "execution_count": null,
   "metadata": {},
   "outputs": [],
   "source": []
  },
  {
   "cell_type": "code",
   "execution_count": 7,
   "metadata": {},
   "outputs": [],
   "source": [
    "# GNN 모델 정의\n",
    "class GCN(torch.nn.Module):\n",
    "    def __init__(self, in_channels, hidden_channels, out_channels):\n",
    "        super(GCN, self).__init__()\n",
    "        self.conv1 = GCNConv(in_channels, hidden_channels,\n",
    "                             cached=True, normalize=True)\n",
    "        self.conv2 = GCNConv(hidden_channels, out_channels,\n",
    "                             cached=True, normalize=True)\n",
    "        \n",
    "    def forward(self, x, edge_index, edge_weight=None, return_h=False):\n",
    "        x = F.relu(self.conv1(x, edge_index))\n",
    "        x = self.conv2(x, edge_index)\n",
    "        return x"
   ]
  },
  {
   "cell_type": "code",
   "execution_count": 3,
   "metadata": {},
   "outputs": [
    {
     "name": "stderr",
     "output_type": "stream",
     "text": [
      "Downloading https://github.com/kimiyoung/planetoid/raw/master/data/ind.cora.x\n",
      "Downloading https://github.com/kimiyoung/planetoid/raw/master/data/ind.cora.tx\n",
      "Downloading https://github.com/kimiyoung/planetoid/raw/master/data/ind.cora.allx\n",
      "Downloading https://github.com/kimiyoung/planetoid/raw/master/data/ind.cora.y\n",
      "Downloading https://github.com/kimiyoung/planetoid/raw/master/data/ind.cora.ty\n",
      "Downloading https://github.com/kimiyoung/planetoid/raw/master/data/ind.cora.ally\n",
      "Downloading https://github.com/kimiyoung/planetoid/raw/master/data/ind.cora.graph\n",
      "Downloading https://github.com/kimiyoung/planetoid/raw/master/data/ind.cora.test.index\n",
      "Processing...\n",
      "Done!\n"
     ]
    }
   ],
   "source": [
    "# 데이터셋 로드\n",
    "dataset = Planetoid(root='/tmp/Cora', name='Cora')\n",
    "data = dataset[0]"
   ]
  },
  {
   "cell_type": "code",
   "execution_count": 4,
   "metadata": {},
   "outputs": [],
   "source": [
    "# 데이터셋 분할: Train/ Calibration / Test\n",
    "num_nodes = data.x.shape[0]\n",
    "indices = np.arange(num_nodes)\n",
    "np.random.shuffle(indices)\n",
    "\n",
    "train_ratio, calib_ratio = 0.6, 0.2 # 20% test\n",
    "train_size = int(num_nodes * train_ratio)\n",
    "calib_size = int(num_nodes * calib_ratio)\n",
    "\n",
    "train_idx = indices[:train_size]\n",
    "calib_idx = indices[train_size:train_size + calib_size]\n",
    "test_idx = indices[train_size + calib_size:]"
   ]
  },
  {
   "cell_type": "code",
   "execution_count": 5,
   "metadata": {},
   "outputs": [],
   "source": [
    "# new 마스크 설정\n",
    "data.train_mask = torch.zeros(num_nodes, dtype=torch.bool)\n",
    "data.train_mask[train_idx] = True\n",
    "\n",
    "data.calib_mask = torch.zeros(num_nodes, dtype=torch.bool)  # Calibration Mask 추가\n",
    "data.calib_mask[calib_idx] = True\n",
    "\n",
    "data.test_mask = torch.zeros(num_nodes, dtype=torch.bool)\n",
    "data.test_mask[test_idx] = True"
   ]
  },
  {
   "cell_type": "code",
   "execution_count": 9,
   "metadata": {},
   "outputs": [],
   "source": [
    "# 모델 훈련 함수\n",
    "def train_model(model, data, optimizer, epochs=200):\n",
    "    model.train()\n",
    "    for epoch in range(epochs):\n",
    "        optimizer.zero_grad()\n",
    "        out = model(data.x, data.edge_index)\n",
    "        loss = F.mse_loss(out[data.train_mask], data.y[data.train_mask])\n",
    "        loss.backward()\n",
    "        optimizer.step()\n",
    "    return model\n",
    "\n",
    "# Conformal Prediction 보정 함수 (Calibration Set 사용)\n",
    "def conformal_prediction_calibrate(model, data, alpha=0.1):\n",
    "    model.eval()\n",
    "    with torch.no_grad():\n",
    "        logits = model(data.x, data.edge_index).numpy()\n",
    "        labels = data.y.numpy()\n",
    "        scores = np.abs(logits - labels)  # 비순응 점수 계산 (회귀)\n",
    "    \n",
    "    # Calibration 데이터만 사용하여 신뢰구간 보정\n",
    "    qhat = np.quantile(scores[data.calib_mask], 1 - alpha)\n",
    "    return qhat\n",
    "\n",
    "# Conformal Prediction 적용 함수\n",
    "def conformal_prediction_predict(model, data, qhat):\n",
    "    model.eval()\n",
    "    with torch.no_grad():\n",
    "        logits = model(data.x, data.edge_index).numpy()\n",
    "        lower_bound = logits - qhat\n",
    "        upper_bound = logits + qhat\n",
    "    return lower_bound, upper_bound"
   ]
  },
  {
   "cell_type": "code",
   "execution_count": 10,
   "metadata": {},
   "outputs": [
    {
     "ename": "NameError",
     "evalue": "name 'model' is not defined",
     "output_type": "error",
     "traceback": [
      "\u001b[0;31m---------------------------------------------------------------------------\u001b[0m",
      "\u001b[0;31mNameError\u001b[0m                                 Traceback (most recent call last)",
      "Cell \u001b[0;32mIn[10], line 2\u001b[0m\n\u001b[1;32m      1\u001b[0m \u001b[38;5;66;03m# Conformal Prediction 수행\u001b[39;00m\n\u001b[0;32m----> 2\u001b[0m qhat \u001b[38;5;241m=\u001b[39m conformal_prediction_calibrate(\u001b[43mmodel\u001b[49m, data, alpha\u001b[38;5;241m=\u001b[39m\u001b[38;5;241m0.1\u001b[39m)\n\u001b[1;32m      3\u001b[0m lower_bound, upper_bound \u001b[38;5;241m=\u001b[39m conformal_prediction_predict(model, data, qhat)\n\u001b[1;32m      5\u001b[0m \u001b[38;5;66;03m# 결과 출력\u001b[39;00m\n",
      "\u001b[0;31mNameError\u001b[0m: name 'model' is not defined"
     ]
    }
   ],
   "source": [
    "# Conformal Prediction 수행\n",
    "qhat = conformal_prediction_calibrate(model, data, alpha=0.1)\n",
    "lower_bound, upper_bound = conformal_prediction_predict(model, data, qhat)\n",
    "\n",
    "# 결과 출력\n",
    "print(\"Calibration Quantile Threshold:\", qhat)\n",
    "print(\"Lower Bound:\", lower_bound)\n",
    "print(\"Upper Bound:\", upper_bound)\n"
   ]
  }
 ],
 "metadata": {
  "kernelspec": {
   "display_name": "saa_llama",
   "language": "python",
   "name": "python3"
  },
  "language_info": {
   "codemirror_mode": {
    "name": "ipython",
    "version": 3
   },
   "file_extension": ".py",
   "mimetype": "text/x-python",
   "name": "python",
   "nbconvert_exporter": "python",
   "pygments_lexer": "ipython3",
   "version": "3.9.19"
  }
 },
 "nbformat": 4,
 "nbformat_minor": 2
}
