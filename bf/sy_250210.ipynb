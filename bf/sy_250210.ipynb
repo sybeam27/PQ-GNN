{
 "cells": [
  {
   "cell_type": "code",
   "execution_count": 1,
   "metadata": {},
   "outputs": [],
   "source": [
    "import torch\n",
    "import torch.nn.functional as F\n",
    "from torch_geometric.nn import GCNConv\n",
    "from torch_geometric.data import Data\n",
    "from torch_geometric.datasets import Planetoid, Amazon, Coauthor, CitationFull\n",
    "from torch_geometric.loader import DataLoader\n",
    "from ogb.nodeproppred import PygNodePropPredDataset\n",
    "import numpy as np\n",
    "import matplotlib.pyplot as plt"
   ]
  },
  {
   "cell_type": "code",
   "execution_count": 2,
   "metadata": {},
   "outputs": [],
   "source": [
    "# 분위수 손실 함수 정의\n",
    "class QuantileLoss(torch.nn.Module):\n",
    "    def __init__(self):\n",
    "        super(QuantileLoss, self).__init__()\n",
    "        \n",
    "    def forward(self, yhat, y, tau):\n",
    "        diff = yhat - y\n",
    "        mask = (diff.ge(0).float() - tau).detach()\n",
    "        return (mask * diff).mean()\n",
    "    \n",
    "# GNN 기반 분위수 모델 정의\n",
    "class GCNQuantile(torch.nn.Module):\n",
    "    def __init__(self, input_dim, hidden_dim, output_dim):\n",
    "        super(GCNQuantile, self).__init__()\n",
    "        self.conv1 = GCNConv(input_dim + 1, hidden_dim)\n",
    "        self.conv2 = GCNConv(hidden_dim, hidden_dim)\n",
    "        self.fc = torch.nn.Linear(hidden_dim, output_dim)\n",
    "        \n",
    "    def forward(self, x, edge_index, tau):\n",
    "        tau = (tau - 0.5) * 12\n",
    "        x = torch.cat((x, tau), dim = 1)\n",
    "        x = F.relu(self.conv1(x, edge_index))\n",
    "        x = F.relu(self.conv2(x, edge_index))\n",
    "        x = self.fc(x)\n",
    "        return x"
   ]
  },
  {
   "cell_type": "code",
   "execution_count": 24,
   "metadata": {},
   "outputs": [],
   "source": [
    "# 단일 QR 적용 모델 학습 함수\n",
    "def train_gnn_single_qr(x, y, edge_index, q=0.5):\n",
    "    input_dim = x.shape[1]\n",
    "    hidden_dim = 128\n",
    "    output_dim = 1\n",
    "    \n",
    "    model = GCNQuantile(input_dim, hidden_dim, output_dim)\n",
    "    optimizer = torch.optim.Adam(model.parameters(), lr=1e-3, weight_decay=1e-2)\n",
    "    loss_fn = QuantileLoss() \n",
    "    \n",
    "    for _ in range(10000):\n",
    "        optimizer.zero_grad()\n",
    "        taus = torch.full((x.size(0), 1), q)\n",
    "        loss = loss_fn(model(x, edge_index, taus), y, taus)\n",
    "        loss.backward()\n",
    "        optimizer.step()\n",
    "    \n",
    "    return model\n",
    "\n",
    "# 신뢰구간 학습 QR 적용 모델\n",
    "def train_gnn_ci_qr(x, y, edge_index, ci=0.9):\n",
    "    input_dim = x.shape[1]\n",
    "    hidden_dim = 128\n",
    "    output_dim = 1\n",
    "    \n",
    "    model = GCNQuantile(input_dim, hidden_dim, output_dim)\n",
    "    optimizer = torch.optim.Adam(model.parameters(), lr=1e-3, weight_decay=1e-2)\n",
    "    loss_fn = QuantileLoss()\n",
    "    \n",
    "    lower_tau = (1 - ci) / 2  # 예: 90% 신뢰구간이면 5% (0.05)\n",
    "    upper_tau = 1 - (1 - ci) / 2  # 예: 90% 신뢰구간이면 95% (0.95)\n",
    "    \n",
    "    for _ in range(10000):\n",
    "        optimizer.zero_grad()\n",
    "        taus = torch.cat([\n",
    "            torch.full((x.size(0) // 2, 1), lower_tau),\n",
    "            torch.full((x.size(0) - x.size(0) // 2, 1), upper_tau)\n",
    "        ], dim=0)\n",
    "        loss = loss_fn(model(x, edge_index, taus), y, taus)\n",
    "        loss.backward()\n",
    "        optimizer.step()\n",
    "    \n",
    "    return model"
   ]
  },
  {
   "cell_type": "code",
   "execution_count": 40,
   "metadata": {},
   "outputs": [
    {
     "name": "stdout",
     "output_type": "stream",
     "text": [
      "Downloading http://snap.stanford.edu/ogb/data/nodeproppred/arxiv.zip\n"
     ]
    },
    {
     "name": "stderr",
     "output_type": "stream",
     "text": [
      "Downloaded 0.08 GB: 100%|██████████| 81/81 [00:27<00:00,  2.98it/s]\n",
      "Processing...\n"
     ]
    },
    {
     "name": "stdout",
     "output_type": "stream",
     "text": [
      "Extracting dataset/arxiv.zip\n",
      "Loading necessary files...\n",
      "This might take a while.\n",
      "Processing graphs...\n"
     ]
    },
    {
     "name": "stderr",
     "output_type": "stream",
     "text": [
      "100%|██████████| 1/1 [00:00<00:00, 12264.05it/s]\n"
     ]
    },
    {
     "name": "stdout",
     "output_type": "stream",
     "text": [
      "Converting graphs into PyG objects...\n"
     ]
    },
    {
     "name": "stderr",
     "output_type": "stream",
     "text": [
      "100%|██████████| 1/1 [00:00<00:00, 2746.76it/s]"
     ]
    },
    {
     "name": "stdout",
     "output_type": "stream",
     "text": [
      "Saving...\n"
     ]
    },
    {
     "name": "stderr",
     "output_type": "stream",
     "text": [
      "\n",
      "Done!\n"
     ]
    }
   ],
   "source": [
    "# 데이터셋 로드\n",
    "# data = dataset = Planetoid(root='/tmp/Cora', name='Cora')[0]\n",
    "\n",
    "dataset = PygNodePropPredDataset(name=\"ogbn-arxiv\")\n",
    "data = dataset[0]"
   ]
  },
  {
   "cell_type": "code",
   "execution_count": 42,
   "metadata": {},
   "outputs": [],
   "source": [
    "x = data.x\n",
    "y = data.y\n",
    "edge_index = data.edge_index"
   ]
  },
  {
   "cell_type": "code",
   "execution_count": 26,
   "metadata": {},
   "outputs": [],
   "source": [
    "# 개별 분위수 모델 학습\n",
    "net_005 = train_gnn_single_qr(x, y, edge_index, q=0.05)\n",
    "net_095 = train_gnn_single_qr(x, y, edge_index, q=0.95)\n",
    "\n",
    "# 신뢰 분위수 모델 학습\n",
    "net_joint = train_gnn_ci_qr(x, y, edge_index, ci=0.9) "
   ]
  },
  {
   "cell_type": "code",
   "execution_count": 27,
   "metadata": {},
   "outputs": [],
   "source": [
    "# 개별 학습된 모델을 사용한 예측값\n",
    "num_nodes = data.x.shape[0]\n",
    "\n",
    "predictions_sep = {\n",
    "    0.05: net_005(x, edge_index, torch.full((num_nodes, 1), 0.05)).detach().numpy(),\n",
    "    0.95: net_095(x, edge_index, torch.full((num_nodes, 1), 0.95)).detach().numpy(),\n",
    "}\n",
    "\n",
    "# 조인트 학습된 모델을 사용한 예측값\n",
    "predictions_joint = {\n",
    "    tau: net_joint(x, edge_index, torch.full((num_nodes, 1), tau)).detach().numpy()\n",
    "    for tau in [0.05, 0.95]\n",
    "}"
   ]
  },
  {
   "cell_type": "code",
   "execution_count": 33,
   "metadata": {},
   "outputs": [
    {
     "data": {
      "image/png": "[encoded data removed]",
      "text/plain": [
       "<Figure size 2000x500 with 4 Axes>"
      ]
     },
     "metadata": {},
     "output_type": "display_data"
    }
   ],
   "source": [
    "# 정렬된 노드 인덱스\n",
    "o = torch.sort(x[:, 0])[1]\n",
    "\n",
    "# 시각화\n",
    "plt.figure(figsize=(20, 5))\n",
    "plt.rc('font', size=16)\n",
    "plt.rc('font', family='serif')\n",
    "\n",
    "# (1) 개별 학습된 분위수 모델 (Separate Estimation)\n",
    "plt.subplot(1, 4, 1)\n",
    "plt.title(\"Separate Estimation (GNN)\")\n",
    "plt.plot(x[o, 0].numpy(), y[o].numpy(), '.', alpha=0.5)\n",
    "for tau in [0.05, 0.95]:\n",
    "    plt.plot(x[o, 0].numpy(), predictions_sep[tau][o], alpha=0.75, label=f\"$\\\\tau_{{{tau}}}$\")\n",
    "plt.legend()\n",
    "\n",
    "# (2) 분위수 차이 시각화 (Separate Estimation)\n",
    "plt.subplot(1, 4, 2)\n",
    "plt.title(\"Quantile Differences (Separate)\")\n",
    "plt.plot(x[o, 0].numpy(), (predictions_sep[0.95] - predictions_sep[0.05])[o], alpha=0.75, label=\"$\\\\tau_{0.95} - \\\\tau_{0.05}$\")\n",
    "plt.axhline(0, ls=\"--\", color=\"gray\")\n",
    "plt.legend()\n",
    "\n",
    "# (3) 조인트 학습된 분위수 모델 (Joint Estimation)\n",
    "plt.subplot(1, 4, 3)\n",
    "plt.title(\"Joint Estimation (GNN)\")\n",
    "plt.plot(x[o, 0].numpy(), y[o].numpy(), '.', alpha=0.5)\n",
    "for tau in [0.05, 0.95]:\n",
    "    plt.plot(x[o, 0].numpy(), predictions_joint[tau][o], alpha=0.75, label=f\"$\\\\tau_{{{tau}}}$\")\n",
    "plt.legend()\n",
    "\n",
    "# (4) 분위수 차이 시각화 (Joint Estimation)\n",
    "plt.subplot(1, 4, 4)\n",
    "plt.title(\"Quantile Differences (Joint)\")\n",
    "plt.plot(x[o, 0].numpy(), (predictions_joint[0.95] - predictions_joint[0.05])[o], alpha=0.75, label=\"$\\\\tau_{0.95} - \\\\tau_{0.05}$\")\n",
    "plt.axhline(0, ls=\"--\", color=\"gray\")\n",
    "plt.legend()\n",
    "\n",
    "# 결과 저장 및 표시\n",
    "plt.tight_layout()\n",
    "# plt.savefig(\"gnn_joint_vs_separate_estimation.pdf\")\n",
    "plt.show()"
   ]
  },
  {
   "cell_type": "code",
   "execution_count": null,
   "metadata": {},
   "outputs": [],
   "source": []
  },
  {
   "cell_type": "code",
   "execution_count": 7,
   "metadata": {},
   "outputs": [],
   "source": [
    "# GNN 모델 정의\n",
    "class GCN(torch.nn.Module):\n",
    "    def __init__(self, input_dim, hidden_dim, output_dim):\n",
    "        super(GCN, self).__init__()\n",
    "        self.conv1 = GCNConv(input_dim, hidden_dim)\n",
    "        self.conv2 = GCNConv(hidden_dim, output_dim)\n",
    "        \n",
    "    def forward(self, x, edge_index):\n",
    "        x = F.relu(self.conv1(x, edge_index))\n",
    "        x = self.conv2(x, edge_index)\n",
    "        return x"
   ]
  },
  {
   "cell_type": "code",
   "execution_count": 4,
   "metadata": {},
   "outputs": [],
   "source": [
    "# 데이터셋 분할: Train/ Calibration / Test\n",
    "num_nodes = data.x.shape[0]\n",
    "indices = np.arange(num_nodes)\n",
    "np.random.shuffle(indices)\n",
    "\n",
    "train_ratio, calib_ratio = 0.6, 0.2 # 20% test\n",
    "train_size = int(num_nodes * train_ratio)\n",
    "calib_size = int(num_nodes * calib_ratio)\n",
    "\n",
    "train_idx = indices[:train_size]\n",
    "calib_idx = indices[train_size:train_size + calib_size]\n",
    "test_idx = indices[train_size + calib_size:]\n",
    "\n",
    "# new 마스크 설정\n",
    "data.train_mask = torch.zeros(num_nodes, dtype=torch.bool)\n",
    "data.train_mask[train_idx] = True\n",
    "\n",
    "data.calib_mask = torch.zeros(num_nodes, dtype=torch.bool)  # Calibration Mask 추가\n",
    "data.calib_mask[calib_idx] = True\n",
    "\n",
    "data.test_mask = torch.zeros(num_nodes, dtype=torch.bool)\n",
    "data.test_mask[test_idx] = True"
   ]
  },
  {
   "cell_type": "code",
   "execution_count": 9,
   "metadata": {},
   "outputs": [],
   "source": [
    "# 모델 훈련 함수\n",
    "def train_gnn_cp(x, y, edge_index):\n",
    "    input_dim = x.shape[1]\n",
    "    hidden_dim = 128\n",
    "    output_dim = 1\n",
    "    \n",
    "    model = GCN(input_dim, hidden_dim, output_dim)\n",
    "    optimizer = torch.optim.Adam(model.parameters(), lr=1e-3, weight_decay=1e-2)\n",
    "    \n",
    "    for _ in range(10000):\n",
    "        optimizer.zero_grad()\n",
    "        out = model(data.x, data.edge_index)\n",
    "        loss = F.mse_loss(out[data.train_mask], data.y[data.train_mask])\n",
    "        loss.backward()\n",
    "        optimizer.step()\n",
    "    return model\n",
    "\n",
    "# Conformal Prediction 보정 함수 (Calibration Set 사용)\n",
    "def conformal_prediction_calibrate(model, data, alpha=0.1):\n",
    "    model.eval()\n",
    "    with torch.no_grad():\n",
    "        logits = model(data.x, data.edge_index).numpy()\n",
    "        labels = data.y.numpy()\n",
    "        scores = np.abs(logits - labels)  # 비순응 점수 계산 (회귀)\n",
    "    \n",
    "    # Calibration 데이터만 사용하여 신뢰구간 보정\n",
    "    qhat = np.quantile(scores[data.calib_mask], 1 - alpha)\n",
    "    return qhat\n",
    "\n",
    "# Conformal Prediction 적용 함수\n",
    "def conformal_prediction_predict(model, data, qhat):\n",
    "    model.eval()\n",
    "    with torch.no_grad():\n",
    "        logits = model(data.x, data.edge_index).numpy()\n",
    "        lower_bound = logits - qhat\n",
    "        upper_bound = logits + qhat\n",
    "    return lower_bound, upper_bound"
   ]
  },
  {
   "cell_type": "code",
   "execution_count": 10,
   "metadata": {},
   "outputs": [
    {
     "ename": "NameError",
     "evalue": "name 'model' is not defined",
     "output_type": "error",
     "traceback": [
      "\u001b[0;31m---------------------------------------------------------------------------\u001b[0m",
      "\u001b[0;31mNameError\u001b[0m                                 Traceback (most recent call last)",
      "Cell \u001b[0;32mIn[10], line 2\u001b[0m\n\u001b[1;32m      1\u001b[0m \u001b[38;5;66;03m# Conformal Prediction 수행\u001b[39;00m\n\u001b[0;32m----> 2\u001b[0m qhat \u001b[38;5;241m=\u001b[39m conformal_prediction_calibrate(\u001b[43mmodel\u001b[49m, data, alpha\u001b[38;5;241m=\u001b[39m\u001b[38;5;241m0.1\u001b[39m)\n\u001b[1;32m      3\u001b[0m lower_bound, upper_bound \u001b[38;5;241m=\u001b[39m conformal_prediction_predict(model, data, qhat)\n\u001b[1;32m      5\u001b[0m \u001b[38;5;66;03m# 결과 출력\u001b[39;00m\n",
      "\u001b[0;31mNameError\u001b[0m: name 'model' is not defined"
     ]
    }
   ],
   "source": [
    "# Conformal Prediction 수행\n",
    "model = train_gnn_cp(x, y, edge_index)\n",
    "qhat = conformal_prediction_calibrate(model, data, alpha=0.1)\n",
    "lower_bound, upper_bound = conformal_prediction_predict(model, data, qhat)\n",
    "\n",
    "# 결과 출력\n",
    "print(\"Calibration Quantile Threshold:\", qhat)\n",
    "print(\"Lower Bound:\", lower_bound)\n",
    "print(\"Upper Bound:\", upper_bound)\n"
   ]
  }
 ],
 "metadata": {
  "kernelspec": {
   "display_name": "gqnn",
   "language": "python",
   "name": "python3"
  },
  "language_info": {
   "codemirror_mode": {
    "name": "ipython",
    "version": 3
   },
   "file_extension": ".py",
   "mimetype": "text/x-python",
   "name": "python",
   "nbconvert_exporter": "python",
   "pygments_lexer": "ipython3",
   "version": "3.11.7"
  }
 },
 "nbformat": 4,
 "nbformat_minor": 2
}
